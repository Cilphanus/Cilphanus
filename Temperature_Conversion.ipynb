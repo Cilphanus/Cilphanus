{
  "nbformat": 4,
  "nbformat_minor": 0,
  "metadata": {
    "colab": {
      "provenance": [],
      "toc_visible": true,
      "authorship_tag": "ABX9TyNiglMqce6hNKRMiAUYJznQ",
      "include_colab_link": true
    },
    "kernelspec": {
      "name": "python3",
      "display_name": "Python 3"
    },
    "language_info": {
      "name": "python"
    }
  },
  "cells": [
    {
      "cell_type": "markdown",
      "metadata": {
        "id": "view-in-github",
        "colab_type": "text"
      },
      "source": [
        "<a href=\"https://colab.research.google.com/github/Cilphanus/Cilphanus/blob/main/Temperature_Conversion.ipynb\" target=\"_parent\"><img src=\"https://colab.research.google.com/assets/colab-badge.svg\" alt=\"Open In Colab\"/></a>"
      ]
    },
    {
      "cell_type": "code",
      "execution_count": 1,
      "metadata": {
        "colab": {
          "base_uri": "https://localhost:8080/"
        },
        "id": "i3HH2l9Cq452",
        "outputId": "2627323d-f65e-44f0-c520-8faeeb79109f"
      },
      "outputs": [
        {
          "output_type": "stream",
          "name": "stdout",
          "text": [
            "60°C is 140.0 in Fahrenheit\n",
            "45°F is 7.222222222222222 in Celsius\n"
          ]
        }
      ],
      "source": [
        "def celsius_to_fahrenheit(celsius):\n",
        "    fahrenheit = (celsius * 9/5) + 32\n",
        "    return fahrenheit\n",
        "\n",
        "def fahrenheit_to_celsius(fahrenheit):\n",
        "    celsius = (fahrenheit - 32) * 5/9\n",
        "    return celsius\n",
        "\n",
        "# Test cases\n",
        "temperature_celsius_1 = 60\n",
        "temperature_fahrenheit_1 = celsius_to_fahrenheit(temperature_celsius_1)\n",
        "print(f\"{temperature_celsius_1}°C is {temperature_fahrenheit_1} in Fahrenheit\")\n",
        "\n",
        "temperature_fahrenheit_2 = 45\n",
        "temperature_celsius_2 = fahrenheit_to_celsius(temperature_fahrenheit_2)\n",
        "print(f\"{temperature_fahrenheit_2}°F is {temperature_celsius_2} in Celsius\")\n"
      ]
    }
  ]
}